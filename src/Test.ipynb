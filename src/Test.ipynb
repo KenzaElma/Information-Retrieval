{
 "cells": [
  {
   "cell_type": "code",
   "execution_count": 87,
   "metadata": {},
   "outputs": [
    {
     "name": "stdout",
     "output_type": "stream",
     "text": [
      "The autoreload extension is already loaded. To reload it, use:\n",
      "  %reload_ext autoreload\n"
     ]
    }
   ],
   "source": [
    "import time\n",
    "import numpy as np\n",
    "\n",
    "import pickle\n",
    "\n",
    "import sys\n",
    "sys.path.append('./')\n",
    "\n",
    "\n",
    "from indexation.parser import Parser\n",
    "from indexation.Indexer import IndexerSimple\n",
    "from evaluation.eval import *\n",
    "from evaluation.query_parser import QueryParser\n",
    "\n",
    "\n",
    "%load_ext autoreload\n",
    "%autoreload 2"
   ]
  },
  {
   "cell_type": "code",
   "execution_count": 70,
   "metadata": {},
   "outputs": [
    {
     "name": "stdout",
     "output_type": "stream",
     "text": [
      "2.973499298095703\n"
     ]
    }
   ],
   "source": [
    "path = \"../data/cacm+cisi/cacm/cacm.txt\"\n",
    "collectionName = \"cacm\"\n",
    "pathSaveIndexes = \"../src/indexation/index\"\n",
    "\n",
    "\n",
    "path_queries = \"../data/cacm+cisi/cacm/cacm.qry\"\n",
    "path_results = \"../data/cacm+cisi/cacm/cacm.rel\"\n",
    "\n",
    "queries_parser = QueryParser(path_queries,path_results)\n",
    "queries = queries_parser.cacm_queries_parser()\n",
    "\n",
    "start = time.time()\n",
    "parser = Parser(path)\n",
    "collection = parser.cacm_cisi_parser()\n",
    "\n",
    "\n",
    "indexsimple = IndexerSimple(collection , pathSaveIndexes, collectionName)\n",
    "end = time.time()\n",
    "\n",
    "\n",
    "\n",
    "print(end - start)"
   ]
  },
  {
   "cell_type": "code",
   "execution_count": 71,
   "metadata": {
    "tags": [
     "outputPrepend"
    ]
   },
   "outputs": [
    {
     "name": "stdout",
     "output_type": "stream",
     "text": [
      "[4195, 4196, 4197, 4198, 4199, 4200, 4201, 4202, 4203, 4204]\n"
     ]
    }
   ],
   "source": [
    "path_cisi = \"../data/cacm+cisi/cisi/cisi.txt\"\n",
    "collectionName_cisi = \"cisi\"\n",
    "pathSaveIndexes = \"../src/indexation/index\"\n",
    "\n",
    "path_queries_cisi = \"../data/cacm+cisi/cacm/cisi.qry\"\n",
    "path_results_cisi = \"../data/cacm+cisi/cacm/cisi.rel\"\n",
    "\n",
    "\n",
    "queries_parser_cisi = QueryParser(path_queries_cisi,path_results_cisi)\n",
    "queries_cisi = queries_parser.cacm_queries_parser()\n",
    "\n",
    "parser_cisi = Parser(path_cisi)\n",
    "collection_cisi = parser.cacm_cisi_parser()\n",
    "\n",
    "print(list(collection_cisi.keys())[-10:])"
   ]
  },
  {
   "cell_type": "code",
   "execution_count": 6,
   "metadata": {},
   "outputs": [],
   "source": [
    "# Vectoriel\n",
    "from ordonnancement.ModelRI import Vectoriel"
   ]
  },
  {
   "cell_type": "code",
   "execution_count": 19,
   "metadata": {},
   "outputs": [],
   "source": [
    "# Sub_Weighter1 \n",
    "from ordonnancement.Weighter import Sub_Weighter1\n",
    "model = Vectoriel(indexsimple,Sub_Weighter1(indexsimple))\n",
    "\n",
    "evaluation_vectoriel_weighter1 = evaluate(queries,model)"
   ]
  },
  {
   "cell_type": "code",
   "execution_count": 20,
   "metadata": {},
   "outputs": [],
   "source": [
    "# Sub_Weighter2\n",
    "from ordonnancement.Weighter import Sub_Weighter2\n",
    "model = Vectoriel(indexsimple,Sub_Weighter2(indexsimple))\n",
    "\n",
    "evaluation_vectoriel_weighter2 = evaluate(queries,model)"
   ]
  },
  {
   "cell_type": "code",
   "execution_count": 21,
   "metadata": {},
   "outputs": [],
   "source": [
    "# Sub_Weighter3\n",
    "from ordonnancement.Weighter import Sub_Weighter3\n",
    "model = Vectoriel(indexsimple,Sub_Weighter3(indexsimple))\n",
    "\n",
    "evaluation_vectoriel_weighter3 = evaluate(queries,model)"
   ]
  },
  {
   "cell_type": "code",
   "execution_count": 22,
   "metadata": {},
   "outputs": [],
   "source": [
    "# Sub_Weighter4\n",
    "from ordonnancement.Weighter import Sub_Weighter4\n",
    "model = Vectoriel(indexsimple,Sub_Weighter4(indexsimple))\n",
    "\n",
    "evaluation_vectoriel_weighter4 = evaluate(queries,model)"
   ]
  },
  {
   "cell_type": "code",
   "execution_count": 23,
   "metadata": {},
   "outputs": [],
   "source": [
    "# Sub_Weighter5\n",
    "from ordonnancement.Weighter import Sub_Weighter5\n",
    "model = Vectoriel(indexsimple,Sub_Weighter5(indexsimple))\n",
    "\n",
    "evaluation_vectoriel_weighter5 = evaluate(queries,model)"
   ]
  },
  {
   "cell_type": "code",
   "execution_count": 12,
   "metadata": {},
   "outputs": [],
   "source": [
    "with open(\"../results/evaluation_vectoriel_weighter1.txt\", \"wb\") as fp:\n",
    "    pickle.dump(evaluation_vectoriel_weighter1, fp)\n",
    "\n",
    "with open(\"../results/evaluation_vectoriel_weighter2.txt\", \"wb\") as fp:\n",
    "    pickle.dump(evaluation_vectoriel_weighter2, fp)\n",
    "\n",
    "with open(\"../results/evaluation_vectoriel_weighter3.txt\", \"wb\") as fp:\n",
    "    pickle.dump(evaluation_vectoriel_weighter3, fp)\n",
    "\n",
    "with open(\"../results/evaluation_vectoriel_weighter4.txt\", \"wb\") as fp:\n",
    "    pickle.dump(evaluation_vectoriel_weighter4, fp)\n",
    "\n",
    "with open(\"../results/evaluation_vectoriel_weighter5.txt\", \"wb\") as fp:\n",
    "    pickle.dump(evaluation_vectoriel_weighter5, fp)"
   ]
  },
  {
   "cell_type": "code",
   "execution_count": 24,
   "metadata": {},
   "outputs": [],
   "source": [
    "#Okapi"
   ]
  },
  {
   "cell_type": "code",
   "execution_count": null,
   "metadata": {},
   "outputs": [],
   "source": [
    "from ordonnancement.ModelRI import Okapi\n",
    "\n",
    "model = Okapi(indexsimple)\n",
    "evaluation_okapi = evaluate(queries,model)\n",
    "\n",
    "with open(\"../results/evaluation_okapi.txt\", \"wb\") as fp:\n",
    "    pickle.dump(evaluation_okapi, fp)"
   ]
  },
  {
   "cell_type": "code",
   "execution_count": 5,
   "metadata": {},
   "outputs": [],
   "source": [
    "#ModelLangue"
   ]
  },
  {
   "cell_type": "code",
   "execution_count": 63,
   "metadata": {},
   "outputs": [],
   "source": [
    "from ordonnancement.ModelRI import ModeleLangue\n",
    "\n",
    "model = ModeleLangue(indexsimple)\n",
    "evaluation_ModeleLangue = evaluate(queries,model)\n",
    "\n",
    "with open(\"../results/evaluation_ModeleLangue.txt\", \"wb\") as fp:\n",
    "    pickle.dump(evaluation_ModeleLangue, fp)"
   ]
  },
  {
   "cell_type": "code",
   "execution_count": null,
   "metadata": {},
   "outputs": [],
   "source": [
    "from ordonnancement.ModelRI import ModeleLangue\n",
    "\n",
    "model = ModeleLangue(indexsimple)\n",
    "evaluation_ModeleLangue = evaluate(queries,model)\n",
    "\n",
    "with open(\"../results/evaluation_ModeleLangue.txt\", \"wb\") as fp:\n",
    "    pickle.dump(evaluation_ModeleLangue, fp)"
   ]
  },
  {
   "cell_type": "code",
   "execution_count": 72,
   "metadata": {},
   "outputs": [],
   "source": [
    "from ordonnancement.ModelRI import ModeleLangue\n",
    "\n",
    "model = ModeleLangue(indexsimple)\n",
    "pageRank = PageRank(indexsimple,model)"
   ]
  },
  {
   "cell_type": "code",
   "execution_count": null,
   "metadata": {},
   "outputs": [],
   "source": []
  },
  {
   "cell_type": "code",
   "execution_count": null,
   "metadata": {},
   "outputs": [],
   "source": []
  },
  {
   "cell_type": "code",
   "execution_count": null,
   "metadata": {},
   "outputs": [],
   "source": []
  },
  {
   "cell_type": "code",
   "execution_count": 90,
   "metadata": {},
   "outputs": [],
   "source": [
    "from ordonnancement.ModelRI import PageRank\n",
    "\n",
    "model = ModeleLangue(indexsimple)\n",
    "pageRank = PageRank(indexsimple,model)\n",
    "evaluation_ModeleLangue_pagerank = evaluate(queries,pageRank)"
   ]
  },
  {
   "cell_type": "code",
   "execution_count": 93,
   "metadata": {},
   "outputs": [],
   "source": [
    "p,r,a=tuple(zip(*evaluation_ModeleLangue_pagerank))"
   ]
  },
  {
   "cell_type": "code",
   "execution_count": 98,
   "metadata": {},
   "outputs": [
    {
     "data": {
      "text/plain": [
       "0.21945747661631262"
      ]
     },
     "execution_count": 98,
     "metadata": {},
     "output_type": "execute_result"
    }
   ],
   "source": [
    "np.array(r).mean()"
   ]
  },
  {
   "cell_type": "code",
   "execution_count": 99,
   "metadata": {},
   "outputs": [],
   "source": [
    "with open(\"../results/evaluation_ModeleLangue_pagerank.txt\", \"wb\") as fp:\n",
    "    pickle.dump(evaluation_ModeleLangue_pagerank, fp)"
   ]
  },
  {
   "cell_type": "code",
   "execution_count": null,
   "metadata": {},
   "outputs": [],
   "source": []
  }
 ],
 "metadata": {
  "kernelspec": {
   "display_name": "Python 3.7.7 64-bit",
   "language": "python",
   "name": "python37764bita4774d6f44b14c908c5f5fa0bfb95dd2"
  },
  "language_info": {
   "codemirror_mode": {
    "name": "ipython",
    "version": 3
   },
   "file_extension": ".py",
   "mimetype": "text/x-python",
   "name": "python",
   "nbconvert_exporter": "python",
   "pygments_lexer": "ipython3",
   "version": "3.7.7"
  }
 },
 "nbformat": 4,
 "nbformat_minor": 2
}
